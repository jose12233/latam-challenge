{
 "cells": [
  {
   "cell_type": "markdown",
   "metadata": {},
   "source": [
    "Instrucciones para ejecutar el código\n",
    "Clona el repositorio:\n",
    "\n",
    "bash\n",
    "Copiar código\n",
    "git clone https://github.com/tu_usuario/LATAM-CHALLENGE.git\n",
    "cd LATAM-CHALLENGE\n",
    "Descarga el archivo JSON desde este enlace.\n",
    "\n",
    "Descomprime el archivo ZIP descargado y coloca el archivo JSON en la carpeta LATAM-CHALLENGE."
   ]
  },
  {
   "cell_type": "markdown",
   "metadata": {},
   "source": [
    "# Proyecto: Análisis de Tweets\n",
    "\n",
    "## Descripción del Proyecto\n",
    "En este proyecto, realizaremos un análisis de datos a partir de un conjunto de tweets almacenados en un archivo JSON. Las tareas incluirán la optimización del procesamiento de datos y la generación de informes sobre la actividad de los usuarios en Twitter.\n",
    "\n",
    "## Workflow\n",
    "Utilizaremos **Gitflow** como nuestro flujo de trabajo para la gestión de versiones y el desarrollo del proyecto. Las principales ramas que se han creado son:\n",
    "\n",
    "- **main**: Esta es la rama principal que contiene la versión estable del proyecto.\n",
    "- **develop**: Esta rama es la base para el desarrollo de nuevas características. Todos los cambios se integrarán aquí antes de ser enviados a la rama principal.\n",
    "  \n",
    "Para cada nueva característica o función, se creará una rama de desarrollo específica (`feature/<nombre-de-la-funcion>`). Esto permitirá un desarrollo organizado y la posibilidad de trabajar en múltiples funciones simultáneamente sin interferencias.\n",
    "\n",
    "## Estructura del Proyecto\n",
    "- **main**: Contiene la versión estable del proyecto.\n",
    "- **develop**: Rama para integrar nuevas características.\n",
    "- **feature/**: Ramas individuales para el desarrollo de funciones específicas.\n",
    "\n",
    "## Tecnologías Utilizadas\n",
    "- Python: Lenguaje de programación principal.\n",
    "- Pandas: Librería para la manipulación y análisis de datos.\n",
    "- Git: Sistema de control de versiones.\n",
    "- Gitflow: Modelo de ramificación para gestionar el flujo de trabajo.\n"
   ]
  },
  {
   "cell_type": "markdown",
   "metadata": {},
   "source": [
    "# Optimización de Tiempo: Función `count_dates_and_users`\n",
    "\n",
    "## Descripción\n",
    "La función `count_dates_and_users` se encarga de procesar un archivo JSON que contiene registros de tweets y extraer información sobre la actividad de los usuarios en función de las fechas. El objetivo principal de esta función es optimizar el tiempo de ejecución al utilizar estructuras de datos eficientes y un enfoque de procesamiento línea por línea.\n",
    "\n",
    "## Detalles de Implementación\n",
    "\n",
    "### Importaciones\n",
    "La función utiliza las siguientes librerías:\n",
    "- `os`: Para manejar rutas de archivos.\n",
    "- `json`: Para cargar los registros de tweets en formato JSON.\n",
    "- `time`: Para medir el tiempo de ejecución.\n",
    "- `Counter` de `collections`: Para contar la cantidad de tweets por usuario en cada fecha.\n",
    "- `datetime`: Para manejar las fechas de manera adecuada.\n",
    "\n",
    "### Proceso\n",
    "1. **Inicialización**: Se inicializa un diccionario `date_user_counter` para contar la cantidad de tweets por usuario en cada fecha.\n",
    "  \n",
    "2. **Lectura del Archivo**: Se lee el archivo línea por línea. Cada línea se procesa como un objeto JSON:\n",
    "   - Se extraen la fecha y el nombre de usuario.\n",
    "   - La fecha se simplifica a solo la parte de la fecha (sin la hora).\n",
    "   - Se utiliza `Counter` para llevar un registro de la cantidad de tweets por usuario en cada fecha.\n",
    "\n",
    "3. **Manejo de Errores**: Se implementa un manejo de errores para ignorar líneas que no se puedan decodificar como JSON.\n",
    "\n",
    "4. **Cálculo de Resultados**:\n",
    "   - Se obtienen las 10 fechas más comunes y la suma de tweets por usuario en cada fecha.\n",
    "   - Para cada una de estas fechas, se determina el usuario más activo.\n",
    "\n",
    "5. **Tiempo de Ejecución**: Se mide el tiempo total que toma ejecutar la función.\n",
    "\n",
    "### Salida\n",
    "La función retorna dos valores:\n",
    "- Una lista de tuplas que contiene las 10 fechas más comunes junto con el usuario más activo en esas fechas.\n",
    "- El tiempo de ejecución de la función.\n",
    "\n",
    "### Ejecución\n",
    "Finalmente, se llama a la función pasando la ruta del archivo JSON como argumento y se imprimen los resultados.\n",
    "\n",
    "## Conclusión\n",
    "Esta implementación permite optimizar el procesamiento de grandes volúmenes de datos de tweets, reduciendo significativamente el tiempo de ejecución en comparación con enfoques más ineficientes.\n"
   ]
  },
  {
   "cell_type": "code",
   "execution_count": 19,
   "metadata": {},
   "outputs": [
    {
     "name": "stdout",
     "output_type": "stream",
     "text": [
      "Salida estándar:\n",
      "Top 10 fechas mas comunes con el usuario mas activo:\n",
      "[(datetime.date(2021, 2, 12), 'RanbirS00614606'), (datetime.date(2021, 2, 13), 'MaanDee08215437'), (datetime.date(2021, 2, 17), 'RaaJVinderkaur'), (datetime.date(2021, 2, 16), 'jot__b'), (datetime.date(2021, 2, 14), 'rebelpacifist'), (datetime.date(2021, 2, 18), 'neetuanjle_nitu'), (datetime.date(2021, 2, 15), 'jot__b'), (datetime.date(2021, 2, 20), 'MangalJ23056160'), (datetime.date(2021, 2, 23), 'Surrypuria'), (datetime.date(2021, 2, 19), 'Preetm91')]\n",
      "Tiempo de ejecucion : 3.7000 segundos\n",
      "\n",
      "Errores:\n",
      "\n"
     ]
    }
   ],
   "source": [
    "\n",
    "\n",
    "import subprocess\n",
    "# Ruta del script que deseas ejecutar\n",
    "script_path = './q1_time.py'\n",
    "\n",
    "# Ejecuta el script\n",
    "result = subprocess.run(['python', script_path], capture_output=True, text=True)\n",
    "\n",
    "# Imprime la salida del script\n",
    "print('Salida estándar:')\n",
    "print(result.stdout)\n",
    "\n",
    "# Imprime errores si los hay\n",
    "print('Errores:')\n",
    "print(result.stderr)\n",
    "\n",
    "\n",
    "\n",
    "\n"
   ]
  },
  {
   "cell_type": "code",
   "execution_count": null,
   "metadata": {},
   "outputs": [],
   "source": []
  }
 ],
 "metadata": {
  "kernelspec": {
   "display_name": "venv",
   "language": "python",
   "name": "python3"
  },
  "language_info": {
   "codemirror_mode": {
    "name": "ipython",
    "version": 3
   },
   "file_extension": ".py",
   "mimetype": "text/x-python",
   "name": "python",
   "nbconvert_exporter": "python",
   "pygments_lexer": "ipython3",
   "version": "3.12.7"
  },
  "orig_nbformat": 4
 },
 "nbformat": 4,
 "nbformat_minor": 2
}
